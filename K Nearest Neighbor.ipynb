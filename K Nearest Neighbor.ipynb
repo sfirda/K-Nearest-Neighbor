{
 "cells": [
  {
   "cell_type": "code",
   "execution_count": 1,
   "id": "19d3dee2",
   "metadata": {},
   "outputs": [],
   "source": [
    "import numpy as np\n",
    "import pandas as pd"
   ]
  },
  {
   "cell_type": "code",
   "execution_count": 2,
   "id": "1c704563",
   "metadata": {},
   "outputs": [],
   "source": [
    "iris=pd.read_csv(\"iris.csv\")"
   ]
  },
  {
   "cell_type": "code",
   "execution_count": 5,
   "id": "7bcc88d0",
   "metadata": {},
   "outputs": [],
   "source": [
    "from sklearn.neighbors import KNeighborsClassifier\n",
    "from sklearn.model_selection import train_test_split\n",
    "from sklearn.model_selection import cross_val_score\n",
    "from sklearn.metrics import accuracy_score"
   ]
  },
  {
   "cell_type": "code",
   "execution_count": 7,
   "id": "1973c3f5",
   "metadata": {},
   "outputs": [],
   "source": [
    "X=iris.values[:,0:4]\n",
    "Y=iris.values[:,4]"
   ]
  },
  {
   "cell_type": "code",
   "execution_count": 8,
   "id": "f6ee945f",
   "metadata": {},
   "outputs": [],
   "source": [
    "X_train,X_test,y_train,y_test=train_test_split(X,Y,test_size=0.2)"
   ]
  },
  {
   "cell_type": "code",
   "execution_count": 10,
   "id": "39e68fe3",
   "metadata": {},
   "outputs": [
    {
     "data": {
      "text/plain": [
       "KNeighborsClassifier(metric='l1', n_neighbors=3)"
      ]
     },
     "execution_count": 10,
     "metadata": {},
     "output_type": "execute_result"
    }
   ],
   "source": [
    "knn3=KNeighborsClassifier(n_neighbors=3,metric='l1')\n",
    "knn3.fit(X_train,y_train)"
   ]
  },
  {
   "cell_type": "code",
   "execution_count": 11,
   "id": "428a8ba7",
   "metadata": {},
   "outputs": [
    {
     "data": {
      "text/plain": [
       "(array([[0.5, 0.5, 0.7],\n",
       "        [1.3, 1.4, 1.4],\n",
       "        [0.5, 0.5, 0.5],\n",
       "        [0.2, 0.3, 0.4],\n",
       "        [0.2, 0.3, 0.5],\n",
       "        [0.2, 0.4, 0.5],\n",
       "        [0.2, 0.3, 0.3],\n",
       "        [0.3, 0.4, 0.4],\n",
       "        [0.4, 0.6, 0.8],\n",
       "        [0.5, 0.6, 0.6],\n",
       "        [0.5, 0.5, 0.5],\n",
       "        [0.9, 0.9, 1.1],\n",
       "        [0.3, 0.5, 0.6],\n",
       "        [0.2, 0.4, 0.6],\n",
       "        [0.4, 0.5, 0.5],\n",
       "        [0.4, 0.5, 0.5],\n",
       "        [0.5, 0.6, 0.7],\n",
       "        [0.5, 0.6, 0.7],\n",
       "        [0.5, 0.8, 0.8],\n",
       "        [0.2, 0.3, 0.3],\n",
       "        [0.5, 0.5, 0.6],\n",
       "        [0.7, 0.7, 1.2],\n",
       "        [0.5, 0.7, 0.8],\n",
       "        [0.4, 0.5, 0.5],\n",
       "        [0.6, 0.6, 0.9],\n",
       "        [0.5, 0.6, 0.6],\n",
       "        [0.6, 0.6, 0.6],\n",
       "        [0.5, 0.6, 0.6],\n",
       "        [0.2, 0.7, 0.7],\n",
       "        [0.2, 0.6, 0.7]]),\n",
       " array([[ 26,  98,  40],\n",
       "        [ 25,  16,  85],\n",
       "        [ 96,   0,  48],\n",
       "        [108,  91, 118],\n",
       "        [ 46,  88,  82],\n",
       "        [ 53,  65,  27],\n",
       "        [ 89, 104,  28],\n",
       "        [ 71, 119,   4],\n",
       "        [ 32,  58,  10],\n",
       "        [ 39,  29,  77],\n",
       "        [101,  99,  43],\n",
       "        [ 58,  32,  17],\n",
       "        [ 36,  52,  75],\n",
       "        [ 68,  98,  74],\n",
       "        [ 30,  78,  88],\n",
       "        [ 45,  99,  43],\n",
       "        [ 74,  81,  98],\n",
       "        [ 35,  22,  92],\n",
       "        [ 60,  14,   1],\n",
       "        [ 32,  84,  97],\n",
       "        [ 62, 113,  94],\n",
       "        [ 15, 109,  59],\n",
       "        [115, 101,  18],\n",
       "        [ 30,  78,  82],\n",
       "        [113,  62,  56],\n",
       "        [119,  96,  89],\n",
       "        [ 18,  48,   0],\n",
       "        [ 56, 113,  62],\n",
       "        [ 16, 118, 100],\n",
       "        [ 82,  88,  46]], dtype=int64))"
      ]
     },
     "execution_count": 11,
     "metadata": {},
     "output_type": "execute_result"
    }
   ],
   "source": [
    "knn3.kneighbors(X_test,return_distance=True)"
   ]
  },
  {
   "cell_type": "code",
   "execution_count": 12,
   "id": "80433516",
   "metadata": {},
   "outputs": [
    {
     "data": {
      "text/plain": [
       "array(['Iris-versicolor', 'Iris-versicolor', 'Iris-setosa',\n",
       "       'Iris-versicolor', 'Iris-versicolor', 'Iris-virginica',\n",
       "       'Iris-setosa', 'Iris-setosa', 'Iris-setosa', 'Iris-virginica',\n",
       "       'Iris-setosa', 'Iris-setosa', 'Iris-virginica', 'Iris-versicolor',\n",
       "       'Iris-versicolor', 'Iris-setosa', 'Iris-versicolor',\n",
       "       'Iris-virginica', 'Iris-versicolor', 'Iris-setosa',\n",
       "       'Iris-virginica', 'Iris-versicolor', 'Iris-setosa',\n",
       "       'Iris-versicolor', 'Iris-virginica', 'Iris-setosa', 'Iris-setosa',\n",
       "       'Iris-virginica', 'Iris-versicolor', 'Iris-versicolor'],\n",
       "      dtype=object)"
      ]
     },
     "execution_count": 12,
     "metadata": {},
     "output_type": "execute_result"
    }
   ],
   "source": [
    "y_pred_knn3=knn3.predict(X_test)\n",
    "y_pred_knn3"
   ]
  },
  {
   "cell_type": "code",
   "execution_count": 13,
   "id": "e4e5d928",
   "metadata": {},
   "outputs": [
    {
     "data": {
      "text/plain": [
       "93.33333333333333"
      ]
     },
     "execution_count": 13,
     "metadata": {},
     "output_type": "execute_result"
    }
   ],
   "source": [
    "accuracy_score(y_test,y_pred_knn3)*100"
   ]
  },
  {
   "cell_type": "code",
   "execution_count": 14,
   "id": "e9037810",
   "metadata": {},
   "outputs": [],
   "source": [
    "iris_pred_knn3=pd.DataFrame(y_pred_knn3)\n",
    "iris_pred_knn3.to_csv(\"iris pred knn3.csv\")"
   ]
  },
  {
   "cell_type": "code",
   "execution_count": 16,
   "id": "12de9bec",
   "metadata": {},
   "outputs": [
    {
     "data": {
      "text/html": [
       "<div>\n",
       "<style scoped>\n",
       "    .dataframe tbody tr th:only-of-type {\n",
       "        vertical-align: middle;\n",
       "    }\n",
       "\n",
       "    .dataframe tbody tr th {\n",
       "        vertical-align: top;\n",
       "    }\n",
       "\n",
       "    .dataframe thead th {\n",
       "        text-align: right;\n",
       "    }\n",
       "</style>\n",
       "<table border=\"1\" class=\"dataframe\">\n",
       "  <thead>\n",
       "    <tr style=\"text-align: right;\">\n",
       "      <th></th>\n",
       "      <th>0</th>\n",
       "      <th>1</th>\n",
       "      <th>2</th>\n",
       "      <th>3</th>\n",
       "    </tr>\n",
       "  </thead>\n",
       "  <tbody>\n",
       "    <tr>\n",
       "      <th>0</th>\n",
       "      <td>1.0</td>\n",
       "      <td>0.686275</td>\n",
       "      <td>0.274510</td>\n",
       "      <td>0.039216</td>\n",
       "    </tr>\n",
       "    <tr>\n",
       "      <th>1</th>\n",
       "      <td>1.0</td>\n",
       "      <td>0.612245</td>\n",
       "      <td>0.285714</td>\n",
       "      <td>0.040816</td>\n",
       "    </tr>\n",
       "    <tr>\n",
       "      <th>2</th>\n",
       "      <td>1.0</td>\n",
       "      <td>0.680851</td>\n",
       "      <td>0.276596</td>\n",
       "      <td>0.042553</td>\n",
       "    </tr>\n",
       "    <tr>\n",
       "      <th>3</th>\n",
       "      <td>1.0</td>\n",
       "      <td>0.673913</td>\n",
       "      <td>0.326087</td>\n",
       "      <td>0.043478</td>\n",
       "    </tr>\n",
       "    <tr>\n",
       "      <th>4</th>\n",
       "      <td>1.0</td>\n",
       "      <td>0.720000</td>\n",
       "      <td>0.280000</td>\n",
       "      <td>0.040000</td>\n",
       "    </tr>\n",
       "  </tbody>\n",
       "</table>\n",
       "</div>"
      ],
      "text/plain": [
       "     0         1         2         3\n",
       "0  1.0  0.686275  0.274510  0.039216\n",
       "1  1.0  0.612245  0.285714  0.040816\n",
       "2  1.0  0.680851  0.276596  0.042553\n",
       "3  1.0  0.673913  0.326087  0.043478\n",
       "4  1.0  0.720000  0.280000  0.040000"
      ]
     },
     "execution_count": 16,
     "metadata": {},
     "output_type": "execute_result"
    }
   ],
   "source": [
    "from sklearn.preprocessing import normalize\n",
    "\n",
    "X_norm=normalize(X,norm='max')\n",
    "X_norm=pd.DataFrame(X_norm)\n",
    "X_norm.head()"
   ]
  },
  {
   "cell_type": "code",
   "execution_count": null,
   "id": "3f00f999",
   "metadata": {},
   "outputs": [],
   "source": []
  }
 ],
 "metadata": {
  "kernelspec": {
   "display_name": "Python 3",
   "language": "python",
   "name": "python3"
  },
  "language_info": {
   "codemirror_mode": {
    "name": "ipython",
    "version": 3
   },
   "file_extension": ".py",
   "mimetype": "text/x-python",
   "name": "python",
   "nbconvert_exporter": "python",
   "pygments_lexer": "ipython3",
   "version": "3.8.8"
  }
 },
 "nbformat": 4,
 "nbformat_minor": 5
}
